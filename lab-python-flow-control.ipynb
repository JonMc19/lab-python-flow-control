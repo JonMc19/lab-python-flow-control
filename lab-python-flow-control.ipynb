{
 "cells": [
  {
   "cell_type": "markdown",
   "id": "d3bfc191-8885-42ee-b0a0-bbab867c6f9f",
   "metadata": {
    "tags": []
   },
   "source": [
    "# Lab | Flow Control"
   ]
  },
  {
   "cell_type": "markdown",
   "id": "3851fcd1-cf98-4653-9c89-e003b7ec9400",
   "metadata": {},
   "source": [
    "## Exercise: Managing Customer Orders Optimized\n",
    "\n",
    "In the last lab, you were starting an online store that sells various products. To ensure smooth operations, you developed a program that manages customer orders and inventory.\n",
    "\n",
    "You did so without using flow control. Let's go a step further and improve this code.\n",
    "\n",
    "Follow the steps below to complete the exercise:\n",
    "\n",
    "1. Look at your code from the lab data structures, and improve repeated code with loops.\n",
    "\n",
    "2. Instead of asking the user to input the name of three products that a customer wants to order, do the following:\n",
    "    \n",
    "    a. Prompt the user to enter the name of a product that a customer wants to order.\n",
    "    \n",
    "    b. Add the product name to the \"customer_orders\" set.\n",
    "    \n",
    "    c. Ask the user if they want to add another product (yes/no).\n",
    "    \n",
    "    d. Continue the loop until the user does not want to add another product.\n",
    "\n",
    "3. Instead of updating the inventory by subtracting 1 from the quantity of each product, only do it for  the products that were ordered (those in \"customer_orders\")."
   ]
  },
  {
   "cell_type": "code",
   "execution_count": null,
   "id": "e0043a91",
   "metadata": {},
   "outputs": [],
   "source": [
    "#1. Look at your code from the lab data structures, and improve repeated code with loops."
   ]
  },
  {
   "cell_type": "code",
   "execution_count": 7,
   "id": "8c465b79",
   "metadata": {},
   "outputs": [],
   "source": [
    "inventory= {'t-shirt': 1, 'mug': 2, 'hat': 3, 'book': 4, 'keychain': 5}"
   ]
  },
  {
   "cell_type": "code",
   "execution_count": 8,
   "id": "6ac821e1",
   "metadata": {},
   "outputs": [
    {
     "name": "stdout",
     "output_type": "stream",
     "text": [
      "You have 1 t-shirt\n",
      "You have 2 mug\n",
      "You have 3 hat\n",
      "You have 4 book\n",
      "You have 5 keychain\n"
     ]
    }
   ],
   "source": [
    "for i in inventory:\n",
    "    if inventory[i]==0:\n",
    "        print(\"You do not have any\", i)\n",
    "    else:\n",
    "        print(\"You have\", inventory[i], i)"
   ]
  },
  {
   "cell_type": "code",
   "execution_count": null,
   "id": "6c303578",
   "metadata": {},
   "outputs": [],
   "source": [
    "#2. Instead of asking the user to input the name of three products that a customer wants to order, do the following:\n",
    "    \n",
    "    #a. Prompt the user to enter the name of a product that a customer wants to order.\n",
    "    \n",
    "    #b. Add the product name to the \"customer_orders\" set.\n",
    "    \n",
    "    #c. Ask the user if they want to add another product (yes/no).\n",
    "    \n",
    "    #d. Continue the loop until the user does not want to add another product."
   ]
  },
  {
   "cell_type": "code",
   "execution_count": null,
   "id": "6d251030",
   "metadata": {},
   "outputs": [
    {
     "name": "stdout",
     "output_type": "stream",
     "text": [
      "You didn't order any fruit.\n",
      "You have ordered: \n"
     ]
    }
   ],
   "source": [
    "customer_orders = set()\n",
    "\n",
    "while True:\n",
    "    product_ordered = input(\"What fruit do you want to order? (Type 'none' to finish): \")\n",
    "    if product_ordered.lower() == \"none\":\n",
    "        if not customer_orders:\n",
    "            print(\"You didn't order any fruit.\")\n",
    "        break\n",
    "    customer_orders.add(product_ordered)\n",
    "    more = input(\"Do you want to order another product? (Yes/No): \")\n",
    "    if more.lower() == \"no\":\n",
    "        break\n",
    "\n",
    "print(\"You have ordered:\", \", \".join(customer_orders))\n",
    "\n"
   ]
  },
  {
   "cell_type": "code",
   "execution_count": null,
   "id": "cea2aac2",
   "metadata": {},
   "outputs": [],
   "source": [
    "#3. Instead of updating the inventory by subtracting 1 from the quantity of each product, \n",
    "# only do it for  the products that were ordered (those in \"customer_orders\")."
   ]
  },
  {
   "cell_type": "code",
   "execution_count": null,
   "id": "35b1ea35",
   "metadata": {},
   "outputs": [],
   "source": [
    "inventory = {\"apple\": 3, \"orange\": 5, \"plums\": 6}\n",
    "orders = {}\n",
    "updated_inventory={}\n",
    "\n",
    "for fruit in inventory:\n",
    "    order = input(\"Which fruit do you want? \").lower()\n",
    "\n",
    "    if order in inventory:\n",
    "        try:\n",
    "            qty = int(input(f\"How many {order}s do you want? \"))\n",
    "        except ValueError:\n",
    "            print(\"Please enter a valid number.\")\n",
    "            continue\n",
    "\n",
    "        if qty <= inventory[order]:\n",
    "            orders[order] = qty\n",
    "        else:\n",
    "            print(f\"Sorry, only {inventory[order]} {order}s are available.\")\n",
    "    else:\n",
    "        print(\"That fruit is NOT in the dictionary.\")\n",
    "    another=input(\"Do you want to order another product? Yes/No\")\n",
    "    if another.lower()==\"No\":\n",
    "      break\n",
    "\n",
    "updated_inventory = inventory.copy()\n",
    "\n",
    "for fruit, qty in orders.items():\n",
    "    if fruit in updated_inventory:\n",
    "        updated_inventory[fruit] -= qty\n",
    "\n",
    "print(\"\\nYour order summary:\")\n",
    "print(f\"Your order is {orders}\")\n",
    "print(f\"The updated inventory is {updated_inventory}\")"
   ]
  }
 ],
 "metadata": {
  "kernelspec": {
   "display_name": "Python 3",
   "language": "python",
   "name": "python3"
  },
  "language_info": {
   "codemirror_mode": {
    "name": "ipython",
    "version": 3
   },
   "file_extension": ".py",
   "mimetype": "text/x-python",
   "name": "python",
   "nbconvert_exporter": "python",
   "pygments_lexer": "ipython3",
   "version": "3.12.9"
  }
 },
 "nbformat": 4,
 "nbformat_minor": 5
}
